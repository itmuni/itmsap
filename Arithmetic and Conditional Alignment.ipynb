{
 "cells": [
  {
   "cell_type": "code",
   "execution_count": 1,
   "id": "1e5ea812",
   "metadata": {},
   "outputs": [
    {
     "name": "stdout",
     "output_type": "stream",
     "text": [
      "       weight    Name  Age\n",
      "Row_1      45     Sam   14\n",
      "Row_2      88  Andrea   25\n",
      "Row_3      56    Alex   55\n",
      "Row_4      15   Robin    8\n",
      "Row_5      71     Kia   21\n"
     ]
    }
   ],
   "source": [
    "#importing pandas and pd\n",
    "import pandas as pd \n",
    "\n",
    "#Creating Dataframe \n",
    "df = pd.DataFrame({'weight':[45,88,56,15,71],\n",
    "                  'Name':['Sam','Andrea','Alex','Robin','Kia'],\n",
    "                  'Age':[14,25,55,8,21]})\n",
    "\n",
    "#Create the index \n",
    "index_=['Row_1','Row_2','Row_3','Row_4','Row_5']\n",
    "\n",
    "#Set the index\n",
    "df.index=index_\n",
    "\n",
    "#print the DataFrame\n",
    "print(df)"
   ]
  },
  {
   "cell_type": "code",
   "execution_count": 2,
   "id": "94d7c75a",
   "metadata": {},
   "outputs": [
    {
     "name": "stdout",
     "output_type": "stream",
     "text": [
      "Andrea\n"
     ]
    }
   ],
   "source": [
    "#return the value \n",
    "result = df.loc['Row_2','Name']\n",
    "\n",
    "#Print the result\n",
    "print(result)"
   ]
  },
  {
   "cell_type": "code",
   "execution_count": 1,
   "id": "24463e0b",
   "metadata": {},
   "outputs": [
    {
     "name": "stdout",
     "output_type": "stream",
     "text": [
      "        A   B   C   D\n",
      "Row_1  12   7  20  14\n",
      "Row_2   4   2  16   3\n",
      "Row_3   5  54  11   8\n",
      "Row_4   2   3   3   2\n",
      "Row_5   1   4   8   6\n"
     ]
    }
   ],
   "source": [
    "#importing pandas and pd\n",
    "import pandas as pd \n",
    "\n",
    "#Creating Dataframe \n",
    "df = pd.DataFrame({\"A\":[12,4,5,2,1],\n",
    "                  \"B\":[7,2,54,3,4],\n",
    "                  \"C\":[20,16,11,3,8],\n",
    "                  \"D\":[14,3,8,2,6],})\n",
    "\n",
    "#Create the index \n",
    "index_=['Row_1','Row_2','Row_3','Row_4','Row_5']\n",
    "\n",
    "#Set the index\n",
    "df.index=index_\n",
    "\n",
    "#print the DataFrame\n",
    "print(df)"
   ]
  },
  {
   "cell_type": "code",
   "execution_count": null,
   "id": "8889be16",
   "metadata": {},
   "outputs": [],
   "source": []
  }
 ],
 "metadata": {
  "kernelspec": {
   "display_name": "Python 3 (ipykernel)",
   "language": "python",
   "name": "python3"
  },
  "language_info": {
   "codemirror_mode": {
    "name": "ipython",
    "version": 3
   },
   "file_extension": ".py",
   "mimetype": "text/x-python",
   "name": "python",
   "nbconvert_exporter": "python",
   "pygments_lexer": "ipython3",
   "version": "3.9.7"
  }
 },
 "nbformat": 4,
 "nbformat_minor": 5
}
